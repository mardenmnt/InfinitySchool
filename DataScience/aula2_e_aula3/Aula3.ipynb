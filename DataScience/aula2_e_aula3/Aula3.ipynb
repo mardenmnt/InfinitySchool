{
 "cells": [
  {
   "cell_type": "markdown",
   "id": "8df4b4a6",
   "metadata": {},
   "source": [
    "# Aula 3"
   ]
  },
  {
   "cell_type": "code",
   "execution_count": 1,
   "id": "45e648aa",
   "metadata": {},
   "outputs": [
    {
     "data": {
      "text/html": [
       "<div>\n",
       "<style scoped>\n",
       "    .dataframe tbody tr th:only-of-type {\n",
       "        vertical-align: middle;\n",
       "    }\n",
       "\n",
       "    .dataframe tbody tr th {\n",
       "        vertical-align: top;\n",
       "    }\n",
       "\n",
       "    .dataframe thead th {\n",
       "        text-align: right;\n",
       "    }\n",
       "</style>\n",
       "<table border=\"1\" class=\"dataframe\">\n",
       "  <thead>\n",
       "    <tr style=\"text-align: right;\">\n",
       "      <th></th>\n",
       "      <th>Unnamed: 0</th>\n",
       "      <th>Player</th>\n",
       "      <th>height</th>\n",
       "      <th>weight</th>\n",
       "      <th>collage</th>\n",
       "      <th>born</th>\n",
       "      <th>birth_city</th>\n",
       "      <th>birth_state</th>\n",
       "    </tr>\n",
       "  </thead>\n",
       "  <tbody>\n",
       "    <tr>\n",
       "      <th>0</th>\n",
       "      <td>0</td>\n",
       "      <td>Curly Armstrong</td>\n",
       "      <td>180.0</td>\n",
       "      <td>77.0</td>\n",
       "      <td>Indiana University</td>\n",
       "      <td>1918.0</td>\n",
       "      <td>NaN</td>\n",
       "      <td>NaN</td>\n",
       "    </tr>\n",
       "    <tr>\n",
       "      <th>1</th>\n",
       "      <td>1</td>\n",
       "      <td>Cliff Barker</td>\n",
       "      <td>188.0</td>\n",
       "      <td>83.0</td>\n",
       "      <td>University of Kentucky</td>\n",
       "      <td>1921.0</td>\n",
       "      <td>Yorktown</td>\n",
       "      <td>Indiana</td>\n",
       "    </tr>\n",
       "    <tr>\n",
       "      <th>2</th>\n",
       "      <td>2</td>\n",
       "      <td>Leo Barnhorst</td>\n",
       "      <td>193.0</td>\n",
       "      <td>86.0</td>\n",
       "      <td>University of Notre Dame</td>\n",
       "      <td>1924.0</td>\n",
       "      <td>NaN</td>\n",
       "      <td>NaN</td>\n",
       "    </tr>\n",
       "    <tr>\n",
       "      <th>3</th>\n",
       "      <td>3</td>\n",
       "      <td>Ed Bartels</td>\n",
       "      <td>196.0</td>\n",
       "      <td>88.0</td>\n",
       "      <td>North Carolina State University</td>\n",
       "      <td>1925.0</td>\n",
       "      <td>NaN</td>\n",
       "      <td>NaN</td>\n",
       "    </tr>\n",
       "    <tr>\n",
       "      <th>4</th>\n",
       "      <td>4</td>\n",
       "      <td>Ralph Beard</td>\n",
       "      <td>178.0</td>\n",
       "      <td>79.0</td>\n",
       "      <td>University of Kentucky</td>\n",
       "      <td>1927.0</td>\n",
       "      <td>Hardinsburg</td>\n",
       "      <td>Kentucky</td>\n",
       "    </tr>\n",
       "    <tr>\n",
       "      <th>...</th>\n",
       "      <td>...</td>\n",
       "      <td>...</td>\n",
       "      <td>...</td>\n",
       "      <td>...</td>\n",
       "      <td>...</td>\n",
       "      <td>...</td>\n",
       "      <td>...</td>\n",
       "      <td>...</td>\n",
       "    </tr>\n",
       "    <tr>\n",
       "      <th>3917</th>\n",
       "      <td>3917</td>\n",
       "      <td>Troy Williams</td>\n",
       "      <td>198.0</td>\n",
       "      <td>97.0</td>\n",
       "      <td>South Carolina State University</td>\n",
       "      <td>1969.0</td>\n",
       "      <td>Columbia</td>\n",
       "      <td>South Carolina</td>\n",
       "    </tr>\n",
       "    <tr>\n",
       "      <th>3918</th>\n",
       "      <td>3918</td>\n",
       "      <td>Kyle Wiltjer</td>\n",
       "      <td>208.0</td>\n",
       "      <td>108.0</td>\n",
       "      <td>Gonzaga University</td>\n",
       "      <td>1992.0</td>\n",
       "      <td>Portland</td>\n",
       "      <td>Oregon</td>\n",
       "    </tr>\n",
       "    <tr>\n",
       "      <th>3919</th>\n",
       "      <td>3919</td>\n",
       "      <td>Stephen Zimmerman</td>\n",
       "      <td>213.0</td>\n",
       "      <td>108.0</td>\n",
       "      <td>University of Nevada, Las Vegas</td>\n",
       "      <td>1996.0</td>\n",
       "      <td>Hendersonville</td>\n",
       "      <td>Tennessee</td>\n",
       "    </tr>\n",
       "    <tr>\n",
       "      <th>3920</th>\n",
       "      <td>3920</td>\n",
       "      <td>Paul Zipser</td>\n",
       "      <td>203.0</td>\n",
       "      <td>97.0</td>\n",
       "      <td>NaN</td>\n",
       "      <td>1994.0</td>\n",
       "      <td>Heidelberg</td>\n",
       "      <td>Germany</td>\n",
       "    </tr>\n",
       "    <tr>\n",
       "      <th>3921</th>\n",
       "      <td>3921</td>\n",
       "      <td>Ivica Zubac</td>\n",
       "      <td>216.0</td>\n",
       "      <td>120.0</td>\n",
       "      <td>NaN</td>\n",
       "      <td>1997.0</td>\n",
       "      <td>Mostar</td>\n",
       "      <td>Bosnia and Herzegovina</td>\n",
       "    </tr>\n",
       "  </tbody>\n",
       "</table>\n",
       "<p>3922 rows × 8 columns</p>\n",
       "</div>"
      ],
      "text/plain": [
       "      Unnamed: 0             Player  height  weight  \\\n",
       "0              0    Curly Armstrong   180.0    77.0   \n",
       "1              1       Cliff Barker   188.0    83.0   \n",
       "2              2      Leo Barnhorst   193.0    86.0   \n",
       "3              3         Ed Bartels   196.0    88.0   \n",
       "4              4        Ralph Beard   178.0    79.0   \n",
       "...          ...                ...     ...     ...   \n",
       "3917        3917      Troy Williams   198.0    97.0   \n",
       "3918        3918       Kyle Wiltjer   208.0   108.0   \n",
       "3919        3919  Stephen Zimmerman   213.0   108.0   \n",
       "3920        3920        Paul Zipser   203.0    97.0   \n",
       "3921        3921        Ivica Zubac   216.0   120.0   \n",
       "\n",
       "                              collage    born      birth_city  \\\n",
       "0                  Indiana University  1918.0             NaN   \n",
       "1              University of Kentucky  1921.0        Yorktown   \n",
       "2            University of Notre Dame  1924.0             NaN   \n",
       "3     North Carolina State University  1925.0             NaN   \n",
       "4              University of Kentucky  1927.0     Hardinsburg   \n",
       "...                               ...     ...             ...   \n",
       "3917  South Carolina State University  1969.0        Columbia   \n",
       "3918               Gonzaga University  1992.0        Portland   \n",
       "3919  University of Nevada, Las Vegas  1996.0  Hendersonville   \n",
       "3920                              NaN  1994.0      Heidelberg   \n",
       "3921                              NaN  1997.0          Mostar   \n",
       "\n",
       "                 birth_state  \n",
       "0                        NaN  \n",
       "1                    Indiana  \n",
       "2                        NaN  \n",
       "3                        NaN  \n",
       "4                   Kentucky  \n",
       "...                      ...  \n",
       "3917          South Carolina  \n",
       "3918                  Oregon  \n",
       "3919               Tennessee  \n",
       "3920                 Germany  \n",
       "3921  Bosnia and Herzegovina  \n",
       "\n",
       "[3922 rows x 8 columns]"
      ]
     },
     "execution_count": 1,
     "metadata": {},
     "output_type": "execute_result"
    }
   ],
   "source": [
    "import pandas as pd\n",
    "\n",
    "jogadores = pd.read_csv('Players.csv')\n",
    "jogadores"
   ]
  },
  {
   "cell_type": "code",
   "execution_count": 2,
   "id": "ac816612",
   "metadata": {},
   "outputs": [
    {
     "data": {
      "text/plain": [
       "Unnamed: 0       0\n",
       "Player           1\n",
       "height           1\n",
       "weight           1\n",
       "collage        349\n",
       "born             1\n",
       "birth_city     470\n",
       "birth_state    483\n",
       "dtype: int64"
      ]
     },
     "execution_count": 2,
     "metadata": {},
     "output_type": "execute_result"
    }
   ],
   "source": [
    "jogadores.isnull().sum()"
   ]
  },
  {
   "cell_type": "code",
   "execution_count": 3,
   "id": "732f437e",
   "metadata": {},
   "outputs": [
    {
     "data": {
      "text/html": [
       "<div>\n",
       "<style scoped>\n",
       "    .dataframe tbody tr th:only-of-type {\n",
       "        vertical-align: middle;\n",
       "    }\n",
       "\n",
       "    .dataframe tbody tr th {\n",
       "        vertical-align: top;\n",
       "    }\n",
       "\n",
       "    .dataframe thead th {\n",
       "        text-align: right;\n",
       "    }\n",
       "</style>\n",
       "<table border=\"1\" class=\"dataframe\">\n",
       "  <thead>\n",
       "    <tr style=\"text-align: right;\">\n",
       "      <th></th>\n",
       "      <th>Unnamed: 0</th>\n",
       "      <th>Player</th>\n",
       "      <th>height</th>\n",
       "      <th>weight</th>\n",
       "      <th>collage</th>\n",
       "      <th>born</th>\n",
       "      <th>birth_city</th>\n",
       "      <th>birth_state</th>\n",
       "    </tr>\n",
       "  </thead>\n",
       "  <tbody>\n",
       "    <tr>\n",
       "      <th>1</th>\n",
       "      <td>1</td>\n",
       "      <td>Cliff Barker</td>\n",
       "      <td>188.0</td>\n",
       "      <td>83.0</td>\n",
       "      <td>University of Kentucky</td>\n",
       "      <td>1921.0</td>\n",
       "      <td>Yorktown</td>\n",
       "      <td>Indiana</td>\n",
       "    </tr>\n",
       "    <tr>\n",
       "      <th>4</th>\n",
       "      <td>4</td>\n",
       "      <td>Ralph Beard</td>\n",
       "      <td>178.0</td>\n",
       "      <td>79.0</td>\n",
       "      <td>University of Kentucky</td>\n",
       "      <td>1927.0</td>\n",
       "      <td>Hardinsburg</td>\n",
       "      <td>Kentucky</td>\n",
       "    </tr>\n",
       "    <tr>\n",
       "      <th>6</th>\n",
       "      <td>6</td>\n",
       "      <td>Charlie Black</td>\n",
       "      <td>196.0</td>\n",
       "      <td>90.0</td>\n",
       "      <td>University of Kansas</td>\n",
       "      <td>1921.0</td>\n",
       "      <td>Arco</td>\n",
       "      <td>Idaho</td>\n",
       "    </tr>\n",
       "    <tr>\n",
       "      <th>7</th>\n",
       "      <td>7</td>\n",
       "      <td>Nelson Bobb</td>\n",
       "      <td>183.0</td>\n",
       "      <td>77.0</td>\n",
       "      <td>Temple University</td>\n",
       "      <td>1924.0</td>\n",
       "      <td>Philadelphia</td>\n",
       "      <td>Pennsylvania</td>\n",
       "    </tr>\n",
       "    <tr>\n",
       "      <th>8</th>\n",
       "      <td>8</td>\n",
       "      <td>Jake Bornheimer</td>\n",
       "      <td>196.0</td>\n",
       "      <td>90.0</td>\n",
       "      <td>Muhlenberg College</td>\n",
       "      <td>1927.0</td>\n",
       "      <td>New Brunswick</td>\n",
       "      <td>New Jersey</td>\n",
       "    </tr>\n",
       "    <tr>\n",
       "      <th>...</th>\n",
       "      <td>...</td>\n",
       "      <td>...</td>\n",
       "      <td>...</td>\n",
       "      <td>...</td>\n",
       "      <td>...</td>\n",
       "      <td>...</td>\n",
       "      <td>...</td>\n",
       "      <td>...</td>\n",
       "    </tr>\n",
       "    <tr>\n",
       "      <th>3915</th>\n",
       "      <td>3915</td>\n",
       "      <td>Okaro White</td>\n",
       "      <td>203.0</td>\n",
       "      <td>92.0</td>\n",
       "      <td>Florida State University</td>\n",
       "      <td>1992.0</td>\n",
       "      <td>Clearwater</td>\n",
       "      <td>Florida</td>\n",
       "    </tr>\n",
       "    <tr>\n",
       "      <th>3916</th>\n",
       "      <td>3916</td>\n",
       "      <td>Isaiah Whitehead</td>\n",
       "      <td>193.0</td>\n",
       "      <td>96.0</td>\n",
       "      <td>Seton Hall University</td>\n",
       "      <td>1995.0</td>\n",
       "      <td>Brooklyn</td>\n",
       "      <td>New York</td>\n",
       "    </tr>\n",
       "    <tr>\n",
       "      <th>3917</th>\n",
       "      <td>3917</td>\n",
       "      <td>Troy Williams</td>\n",
       "      <td>198.0</td>\n",
       "      <td>97.0</td>\n",
       "      <td>South Carolina State University</td>\n",
       "      <td>1969.0</td>\n",
       "      <td>Columbia</td>\n",
       "      <td>South Carolina</td>\n",
       "    </tr>\n",
       "    <tr>\n",
       "      <th>3918</th>\n",
       "      <td>3918</td>\n",
       "      <td>Kyle Wiltjer</td>\n",
       "      <td>208.0</td>\n",
       "      <td>108.0</td>\n",
       "      <td>Gonzaga University</td>\n",
       "      <td>1992.0</td>\n",
       "      <td>Portland</td>\n",
       "      <td>Oregon</td>\n",
       "    </tr>\n",
       "    <tr>\n",
       "      <th>3919</th>\n",
       "      <td>3919</td>\n",
       "      <td>Stephen Zimmerman</td>\n",
       "      <td>213.0</td>\n",
       "      <td>108.0</td>\n",
       "      <td>University of Nevada, Las Vegas</td>\n",
       "      <td>1996.0</td>\n",
       "      <td>Hendersonville</td>\n",
       "      <td>Tennessee</td>\n",
       "    </tr>\n",
       "  </tbody>\n",
       "</table>\n",
       "<p>3189 rows × 8 columns</p>\n",
       "</div>"
      ],
      "text/plain": [
       "      Unnamed: 0             Player  height  weight  \\\n",
       "1              1       Cliff Barker   188.0    83.0   \n",
       "4              4        Ralph Beard   178.0    79.0   \n",
       "6              6      Charlie Black   196.0    90.0   \n",
       "7              7        Nelson Bobb   183.0    77.0   \n",
       "8              8    Jake Bornheimer   196.0    90.0   \n",
       "...          ...                ...     ...     ...   \n",
       "3915        3915        Okaro White   203.0    92.0   \n",
       "3916        3916   Isaiah Whitehead   193.0    96.0   \n",
       "3917        3917      Troy Williams   198.0    97.0   \n",
       "3918        3918       Kyle Wiltjer   208.0   108.0   \n",
       "3919        3919  Stephen Zimmerman   213.0   108.0   \n",
       "\n",
       "                              collage    born      birth_city     birth_state  \n",
       "1              University of Kentucky  1921.0        Yorktown         Indiana  \n",
       "4              University of Kentucky  1927.0     Hardinsburg        Kentucky  \n",
       "6                University of Kansas  1921.0            Arco           Idaho  \n",
       "7                   Temple University  1924.0    Philadelphia    Pennsylvania  \n",
       "8                  Muhlenberg College  1927.0   New Brunswick      New Jersey  \n",
       "...                               ...     ...             ...             ...  \n",
       "3915         Florida State University  1992.0      Clearwater         Florida  \n",
       "3916            Seton Hall University  1995.0        Brooklyn        New York  \n",
       "3917  South Carolina State University  1969.0        Columbia  South Carolina  \n",
       "3918               Gonzaga University  1992.0        Portland          Oregon  \n",
       "3919  University of Nevada, Las Vegas  1996.0  Hendersonville       Tennessee  \n",
       "\n",
       "[3189 rows x 8 columns]"
      ]
     },
     "execution_count": 3,
     "metadata": {},
     "output_type": "execute_result"
    }
   ],
   "source": [
    "jogadores2 = jogadores\n",
    "\n",
    "jogadores2.dropna()"
   ]
  },
  {
   "cell_type": "code",
   "execution_count": 4,
   "id": "8a8842f4",
   "metadata": {},
   "outputs": [
    {
     "data": {
      "text/html": [
       "<div>\n",
       "<style scoped>\n",
       "    .dataframe tbody tr th:only-of-type {\n",
       "        vertical-align: middle;\n",
       "    }\n",
       "\n",
       "    .dataframe tbody tr th {\n",
       "        vertical-align: top;\n",
       "    }\n",
       "\n",
       "    .dataframe thead th {\n",
       "        text-align: right;\n",
       "    }\n",
       "</style>\n",
       "<table border=\"1\" class=\"dataframe\">\n",
       "  <thead>\n",
       "    <tr style=\"text-align: right;\">\n",
       "      <th></th>\n",
       "      <th>Unnamed: 0</th>\n",
       "      <th>Player</th>\n",
       "      <th>height</th>\n",
       "      <th>weight</th>\n",
       "      <th>collage</th>\n",
       "      <th>born</th>\n",
       "      <th>birth_city</th>\n",
       "      <th>birth_state</th>\n",
       "    </tr>\n",
       "  </thead>\n",
       "  <tbody>\n",
       "    <tr>\n",
       "      <th>0</th>\n",
       "      <td>0</td>\n",
       "      <td>Curly Armstrong</td>\n",
       "      <td>180.0</td>\n",
       "      <td>77.0</td>\n",
       "      <td>Indiana University</td>\n",
       "      <td>1918.0</td>\n",
       "      <td>NaN</td>\n",
       "      <td>NaN</td>\n",
       "    </tr>\n",
       "    <tr>\n",
       "      <th>1</th>\n",
       "      <td>1</td>\n",
       "      <td>Cliff Barker</td>\n",
       "      <td>188.0</td>\n",
       "      <td>83.0</td>\n",
       "      <td>University of Kentucky</td>\n",
       "      <td>1921.0</td>\n",
       "      <td>Yorktown</td>\n",
       "      <td>Indiana</td>\n",
       "    </tr>\n",
       "    <tr>\n",
       "      <th>2</th>\n",
       "      <td>2</td>\n",
       "      <td>Leo Barnhorst</td>\n",
       "      <td>193.0</td>\n",
       "      <td>86.0</td>\n",
       "      <td>University of Notre Dame</td>\n",
       "      <td>1924.0</td>\n",
       "      <td>NaN</td>\n",
       "      <td>NaN</td>\n",
       "    </tr>\n",
       "    <tr>\n",
       "      <th>3</th>\n",
       "      <td>3</td>\n",
       "      <td>Ed Bartels</td>\n",
       "      <td>196.0</td>\n",
       "      <td>88.0</td>\n",
       "      <td>North Carolina State University</td>\n",
       "      <td>1925.0</td>\n",
       "      <td>NaN</td>\n",
       "      <td>NaN</td>\n",
       "    </tr>\n",
       "    <tr>\n",
       "      <th>4</th>\n",
       "      <td>4</td>\n",
       "      <td>Ralph Beard</td>\n",
       "      <td>178.0</td>\n",
       "      <td>79.0</td>\n",
       "      <td>University of Kentucky</td>\n",
       "      <td>1927.0</td>\n",
       "      <td>Hardinsburg</td>\n",
       "      <td>Kentucky</td>\n",
       "    </tr>\n",
       "    <tr>\n",
       "      <th>...</th>\n",
       "      <td>...</td>\n",
       "      <td>...</td>\n",
       "      <td>...</td>\n",
       "      <td>...</td>\n",
       "      <td>...</td>\n",
       "      <td>...</td>\n",
       "      <td>...</td>\n",
       "      <td>...</td>\n",
       "    </tr>\n",
       "    <tr>\n",
       "      <th>3917</th>\n",
       "      <td>3917</td>\n",
       "      <td>Troy Williams</td>\n",
       "      <td>198.0</td>\n",
       "      <td>97.0</td>\n",
       "      <td>South Carolina State University</td>\n",
       "      <td>1969.0</td>\n",
       "      <td>Columbia</td>\n",
       "      <td>South Carolina</td>\n",
       "    </tr>\n",
       "    <tr>\n",
       "      <th>3918</th>\n",
       "      <td>3918</td>\n",
       "      <td>Kyle Wiltjer</td>\n",
       "      <td>208.0</td>\n",
       "      <td>108.0</td>\n",
       "      <td>Gonzaga University</td>\n",
       "      <td>1992.0</td>\n",
       "      <td>Portland</td>\n",
       "      <td>Oregon</td>\n",
       "    </tr>\n",
       "    <tr>\n",
       "      <th>3919</th>\n",
       "      <td>3919</td>\n",
       "      <td>Stephen Zimmerman</td>\n",
       "      <td>213.0</td>\n",
       "      <td>108.0</td>\n",
       "      <td>University of Nevada, Las Vegas</td>\n",
       "      <td>1996.0</td>\n",
       "      <td>Hendersonville</td>\n",
       "      <td>Tennessee</td>\n",
       "    </tr>\n",
       "    <tr>\n",
       "      <th>3920</th>\n",
       "      <td>3920</td>\n",
       "      <td>Paul Zipser</td>\n",
       "      <td>203.0</td>\n",
       "      <td>97.0</td>\n",
       "      <td>NaN</td>\n",
       "      <td>1994.0</td>\n",
       "      <td>Heidelberg</td>\n",
       "      <td>Germany</td>\n",
       "    </tr>\n",
       "    <tr>\n",
       "      <th>3921</th>\n",
       "      <td>3921</td>\n",
       "      <td>Ivica Zubac</td>\n",
       "      <td>216.0</td>\n",
       "      <td>120.0</td>\n",
       "      <td>NaN</td>\n",
       "      <td>1997.0</td>\n",
       "      <td>Mostar</td>\n",
       "      <td>Bosnia and Herzegovina</td>\n",
       "    </tr>\n",
       "  </tbody>\n",
       "</table>\n",
       "<p>3922 rows × 8 columns</p>\n",
       "</div>"
      ],
      "text/plain": [
       "      Unnamed: 0             Player  height  weight  \\\n",
       "0              0    Curly Armstrong   180.0    77.0   \n",
       "1              1       Cliff Barker   188.0    83.0   \n",
       "2              2      Leo Barnhorst   193.0    86.0   \n",
       "3              3         Ed Bartels   196.0    88.0   \n",
       "4              4        Ralph Beard   178.0    79.0   \n",
       "...          ...                ...     ...     ...   \n",
       "3917        3917      Troy Williams   198.0    97.0   \n",
       "3918        3918       Kyle Wiltjer   208.0   108.0   \n",
       "3919        3919  Stephen Zimmerman   213.0   108.0   \n",
       "3920        3920        Paul Zipser   203.0    97.0   \n",
       "3921        3921        Ivica Zubac   216.0   120.0   \n",
       "\n",
       "                              collage    born      birth_city  \\\n",
       "0                  Indiana University  1918.0             NaN   \n",
       "1              University of Kentucky  1921.0        Yorktown   \n",
       "2            University of Notre Dame  1924.0             NaN   \n",
       "3     North Carolina State University  1925.0             NaN   \n",
       "4              University of Kentucky  1927.0     Hardinsburg   \n",
       "...                               ...     ...             ...   \n",
       "3917  South Carolina State University  1969.0        Columbia   \n",
       "3918               Gonzaga University  1992.0        Portland   \n",
       "3919  University of Nevada, Las Vegas  1996.0  Hendersonville   \n",
       "3920                              NaN  1994.0      Heidelberg   \n",
       "3921                              NaN  1997.0          Mostar   \n",
       "\n",
       "                 birth_state  \n",
       "0                        NaN  \n",
       "1                    Indiana  \n",
       "2                        NaN  \n",
       "3                        NaN  \n",
       "4                   Kentucky  \n",
       "...                      ...  \n",
       "3917          South Carolina  \n",
       "3918                  Oregon  \n",
       "3919               Tennessee  \n",
       "3920                 Germany  \n",
       "3921  Bosnia and Herzegovina  \n",
       "\n",
       "[3922 rows x 8 columns]"
      ]
     },
     "execution_count": 4,
     "metadata": {},
     "output_type": "execute_result"
    }
   ],
   "source": [
    "jogadores3 = jogadores\n",
    "jogadores3"
   ]
  },
  {
   "cell_type": "code",
   "execution_count": 5,
   "id": "95c5f281",
   "metadata": {},
   "outputs": [
    {
     "data": {
      "text/plain": [
       "1"
      ]
     },
     "execution_count": 5,
     "metadata": {},
     "output_type": "execute_result"
    }
   ],
   "source": [
    "jogadores3['height'].isnull().sum()"
   ]
  },
  {
   "cell_type": "code",
   "execution_count": 6,
   "id": "f4f42478",
   "metadata": {},
   "outputs": [],
   "source": [
    "jogadores3['height'].fillna(jogadores3['height'].mean(), inplace = True)"
   ]
  },
  {
   "cell_type": "code",
   "execution_count": 7,
   "id": "625a21ad",
   "metadata": {},
   "outputs": [
    {
     "data": {
      "text/plain": [
       "0"
      ]
     },
     "execution_count": 7,
     "metadata": {},
     "output_type": "execute_result"
    }
   ],
   "source": [
    "jogadores3[\"height\"].isnull().sum()"
   ]
  },
  {
   "cell_type": "code",
   "execution_count": 8,
   "id": "fb808e0c",
   "metadata": {},
   "outputs": [
    {
     "data": {
      "text/plain": [
       "1"
      ]
     },
     "execution_count": 8,
     "metadata": {},
     "output_type": "execute_result"
    }
   ],
   "source": [
    "jogadores3['weight'].isnull().sum()"
   ]
  },
  {
   "cell_type": "code",
   "execution_count": 9,
   "id": "1a2a12bd",
   "metadata": {},
   "outputs": [],
   "source": [
    "jogadores3['weight'].fillna(jogadores3['weight'].median(), inplace = True)"
   ]
  },
  {
   "cell_type": "code",
   "execution_count": 10,
   "id": "87b13325",
   "metadata": {},
   "outputs": [
    {
     "data": {
      "text/plain": [
       "0"
      ]
     },
     "execution_count": 10,
     "metadata": {},
     "output_type": "execute_result"
    }
   ],
   "source": [
    "jogadores3['weight'].isnull().sum()"
   ]
  },
  {
   "cell_type": "code",
   "execution_count": 11,
   "id": "8104c076",
   "metadata": {},
   "outputs": [
    {
     "data": {
      "text/plain": [
       "'Chicago'"
      ]
     },
     "execution_count": 11,
     "metadata": {},
     "output_type": "execute_result"
    }
   ],
   "source": [
    "jogadores3['birth_city'].mode()[0]"
   ]
  },
  {
   "cell_type": "code",
   "execution_count": 12,
   "id": "4c617672",
   "metadata": {},
   "outputs": [
    {
     "data": {
      "text/plain": [
       "470"
      ]
     },
     "execution_count": 12,
     "metadata": {},
     "output_type": "execute_result"
    }
   ],
   "source": [
    "jogadores3['birth_city'].isnull().sum()"
   ]
  },
  {
   "cell_type": "code",
   "execution_count": 13,
   "id": "a71a0a3a",
   "metadata": {},
   "outputs": [],
   "source": [
    "jogadores3['birth_city'].fillna(jogadores3['birth_city'].mode()[0], inplace = True)"
   ]
  },
  {
   "cell_type": "code",
   "execution_count": 14,
   "id": "3bb349c1",
   "metadata": {},
   "outputs": [],
   "source": [
    "jogadores3['birth_state'].fillna('California', inplace = True)"
   ]
  },
  {
   "cell_type": "code",
   "execution_count": 15,
   "id": "72546ad3",
   "metadata": {},
   "outputs": [
    {
     "data": {
      "text/plain": [
       "0"
      ]
     },
     "execution_count": 15,
     "metadata": {},
     "output_type": "execute_result"
    }
   ],
   "source": [
    "jogadores3['birth_state'].isnull().sum()"
   ]
  },
  {
   "cell_type": "markdown",
   "id": "9e768f56",
   "metadata": {},
   "source": [
    "# Atividade"
   ]
  },
  {
   "cell_type": "code",
   "execution_count": 16,
   "id": "e8a38888",
   "metadata": {},
   "outputs": [],
   "source": [
    "atividade = {'nome': ['Alberto', 'Junior', 'Fernando', 'Gustavo', 'Marcos', 'Vinicios', 'Matheus', 'Luan', 'Victor'],\n",
    "'qtd_gols': [1, 2, 1, 0, 3, None, None, 1, 5],\n",
    "'funcao': ['atacante', 'zagueiro', 'meia', 'volante', None, None, 'goleiro', None, 'volante'],\n",
    "'cidade': ['fortaleza', 'beberibe', None, None, 'quixadá', 'fortaleza', 'fortaleza', 'fortaleza', None],\n",
    "'altura': [1.70, 1.69, 1.72, None, 1.80, 1.80, 1.91, None, 1.67]}"
   ]
  },
  {
   "cell_type": "code",
   "execution_count": 17,
   "id": "56a60b01",
   "metadata": {},
   "outputs": [
    {
     "data": {
      "text/plain": [
       "{'nome': ['Alberto',\n",
       "  'Junior',\n",
       "  'Fernando',\n",
       "  'Gustavo',\n",
       "  'Marcos',\n",
       "  'Vinicios',\n",
       "  'Matheus',\n",
       "  'Luan',\n",
       "  'Victor'],\n",
       " 'qtd_gols': [1, 2, 1, 0, 3, None, None, 1, 5],\n",
       " 'funcao': ['atacante',\n",
       "  'zagueiro',\n",
       "  'meia',\n",
       "  'volante',\n",
       "  None,\n",
       "  None,\n",
       "  'goleiro',\n",
       "  None,\n",
       "  'volante'],\n",
       " 'cidade': ['fortaleza',\n",
       "  'beberibe',\n",
       "  None,\n",
       "  None,\n",
       "  'quixadá',\n",
       "  'fortaleza',\n",
       "  'fortaleza',\n",
       "  'fortaleza',\n",
       "  None],\n",
       " 'altura': [1.7, 1.69, 1.72, None, 1.8, 1.8, 1.91, None, 1.67]}"
      ]
     },
     "execution_count": 17,
     "metadata": {},
     "output_type": "execute_result"
    }
   ],
   "source": [
    "atividade"
   ]
  },
  {
   "cell_type": "code",
   "execution_count": 18,
   "id": "357af4df",
   "metadata": {},
   "outputs": [],
   "source": [
    "atividade_data = pd.DataFrame(atividade)"
   ]
  },
  {
   "cell_type": "code",
   "execution_count": 19,
   "id": "ad28b891",
   "metadata": {},
   "outputs": [
    {
     "data": {
      "text/html": [
       "<div>\n",
       "<style scoped>\n",
       "    .dataframe tbody tr th:only-of-type {\n",
       "        vertical-align: middle;\n",
       "    }\n",
       "\n",
       "    .dataframe tbody tr th {\n",
       "        vertical-align: top;\n",
       "    }\n",
       "\n",
       "    .dataframe thead th {\n",
       "        text-align: right;\n",
       "    }\n",
       "</style>\n",
       "<table border=\"1\" class=\"dataframe\">\n",
       "  <thead>\n",
       "    <tr style=\"text-align: right;\">\n",
       "      <th></th>\n",
       "      <th>nome</th>\n",
       "      <th>qtd_gols</th>\n",
       "      <th>funcao</th>\n",
       "      <th>cidade</th>\n",
       "      <th>altura</th>\n",
       "    </tr>\n",
       "  </thead>\n",
       "  <tbody>\n",
       "    <tr>\n",
       "      <th>0</th>\n",
       "      <td>Alberto</td>\n",
       "      <td>1.0</td>\n",
       "      <td>atacante</td>\n",
       "      <td>fortaleza</td>\n",
       "      <td>1.70</td>\n",
       "    </tr>\n",
       "    <tr>\n",
       "      <th>1</th>\n",
       "      <td>Junior</td>\n",
       "      <td>2.0</td>\n",
       "      <td>zagueiro</td>\n",
       "      <td>beberibe</td>\n",
       "      <td>1.69</td>\n",
       "    </tr>\n",
       "    <tr>\n",
       "      <th>2</th>\n",
       "      <td>Fernando</td>\n",
       "      <td>1.0</td>\n",
       "      <td>meia</td>\n",
       "      <td>None</td>\n",
       "      <td>1.72</td>\n",
       "    </tr>\n",
       "    <tr>\n",
       "      <th>3</th>\n",
       "      <td>Gustavo</td>\n",
       "      <td>0.0</td>\n",
       "      <td>volante</td>\n",
       "      <td>None</td>\n",
       "      <td>NaN</td>\n",
       "    </tr>\n",
       "    <tr>\n",
       "      <th>4</th>\n",
       "      <td>Marcos</td>\n",
       "      <td>3.0</td>\n",
       "      <td>None</td>\n",
       "      <td>quixadá</td>\n",
       "      <td>1.80</td>\n",
       "    </tr>\n",
       "    <tr>\n",
       "      <th>5</th>\n",
       "      <td>Vinicios</td>\n",
       "      <td>NaN</td>\n",
       "      <td>None</td>\n",
       "      <td>fortaleza</td>\n",
       "      <td>1.80</td>\n",
       "    </tr>\n",
       "    <tr>\n",
       "      <th>6</th>\n",
       "      <td>Matheus</td>\n",
       "      <td>NaN</td>\n",
       "      <td>goleiro</td>\n",
       "      <td>fortaleza</td>\n",
       "      <td>1.91</td>\n",
       "    </tr>\n",
       "    <tr>\n",
       "      <th>7</th>\n",
       "      <td>Luan</td>\n",
       "      <td>1.0</td>\n",
       "      <td>None</td>\n",
       "      <td>fortaleza</td>\n",
       "      <td>NaN</td>\n",
       "    </tr>\n",
       "    <tr>\n",
       "      <th>8</th>\n",
       "      <td>Victor</td>\n",
       "      <td>5.0</td>\n",
       "      <td>volante</td>\n",
       "      <td>None</td>\n",
       "      <td>1.67</td>\n",
       "    </tr>\n",
       "  </tbody>\n",
       "</table>\n",
       "</div>"
      ],
      "text/plain": [
       "       nome  qtd_gols    funcao     cidade  altura\n",
       "0   Alberto       1.0  atacante  fortaleza    1.70\n",
       "1    Junior       2.0  zagueiro   beberibe    1.69\n",
       "2  Fernando       1.0      meia       None    1.72\n",
       "3   Gustavo       0.0   volante       None     NaN\n",
       "4    Marcos       3.0      None    quixadá    1.80\n",
       "5  Vinicios       NaN      None  fortaleza    1.80\n",
       "6   Matheus       NaN   goleiro  fortaleza    1.91\n",
       "7      Luan       1.0      None  fortaleza     NaN\n",
       "8    Victor       5.0   volante       None    1.67"
      ]
     },
     "execution_count": 19,
     "metadata": {},
     "output_type": "execute_result"
    }
   ],
   "source": [
    "atividade_data"
   ]
  },
  {
   "cell_type": "code",
   "execution_count": 20,
   "id": "1744c654",
   "metadata": {},
   "outputs": [
    {
     "data": {
      "text/plain": [
       "2"
      ]
     },
     "execution_count": 20,
     "metadata": {},
     "output_type": "execute_result"
    }
   ],
   "source": [
    "atividade_data['qtd_gols'].isnull().sum()"
   ]
  },
  {
   "cell_type": "code",
   "execution_count": 21,
   "id": "7750ba54",
   "metadata": {},
   "outputs": [],
   "source": [
    "atividade_data['qtd_gols'].fillna(atividade_data['qtd_gols'].mean(), inplace = True)"
   ]
  },
  {
   "cell_type": "code",
   "execution_count": 22,
   "id": "94eab2ba",
   "metadata": {},
   "outputs": [
    {
     "data": {
      "text/html": [
       "<div>\n",
       "<style scoped>\n",
       "    .dataframe tbody tr th:only-of-type {\n",
       "        vertical-align: middle;\n",
       "    }\n",
       "\n",
       "    .dataframe tbody tr th {\n",
       "        vertical-align: top;\n",
       "    }\n",
       "\n",
       "    .dataframe thead th {\n",
       "        text-align: right;\n",
       "    }\n",
       "</style>\n",
       "<table border=\"1\" class=\"dataframe\">\n",
       "  <thead>\n",
       "    <tr style=\"text-align: right;\">\n",
       "      <th></th>\n",
       "      <th>nome</th>\n",
       "      <th>qtd_gols</th>\n",
       "      <th>funcao</th>\n",
       "      <th>cidade</th>\n",
       "      <th>altura</th>\n",
       "    </tr>\n",
       "  </thead>\n",
       "  <tbody>\n",
       "    <tr>\n",
       "      <th>0</th>\n",
       "      <td>Alberto</td>\n",
       "      <td>1.000000</td>\n",
       "      <td>atacante</td>\n",
       "      <td>fortaleza</td>\n",
       "      <td>1.70</td>\n",
       "    </tr>\n",
       "    <tr>\n",
       "      <th>1</th>\n",
       "      <td>Junior</td>\n",
       "      <td>2.000000</td>\n",
       "      <td>zagueiro</td>\n",
       "      <td>beberibe</td>\n",
       "      <td>1.69</td>\n",
       "    </tr>\n",
       "    <tr>\n",
       "      <th>2</th>\n",
       "      <td>Fernando</td>\n",
       "      <td>1.000000</td>\n",
       "      <td>meia</td>\n",
       "      <td>None</td>\n",
       "      <td>1.72</td>\n",
       "    </tr>\n",
       "    <tr>\n",
       "      <th>3</th>\n",
       "      <td>Gustavo</td>\n",
       "      <td>0.000000</td>\n",
       "      <td>volante</td>\n",
       "      <td>None</td>\n",
       "      <td>NaN</td>\n",
       "    </tr>\n",
       "    <tr>\n",
       "      <th>4</th>\n",
       "      <td>Marcos</td>\n",
       "      <td>3.000000</td>\n",
       "      <td>None</td>\n",
       "      <td>quixadá</td>\n",
       "      <td>1.80</td>\n",
       "    </tr>\n",
       "    <tr>\n",
       "      <th>5</th>\n",
       "      <td>Vinicios</td>\n",
       "      <td>1.857143</td>\n",
       "      <td>None</td>\n",
       "      <td>fortaleza</td>\n",
       "      <td>1.80</td>\n",
       "    </tr>\n",
       "    <tr>\n",
       "      <th>6</th>\n",
       "      <td>Matheus</td>\n",
       "      <td>1.857143</td>\n",
       "      <td>goleiro</td>\n",
       "      <td>fortaleza</td>\n",
       "      <td>1.91</td>\n",
       "    </tr>\n",
       "    <tr>\n",
       "      <th>7</th>\n",
       "      <td>Luan</td>\n",
       "      <td>1.000000</td>\n",
       "      <td>None</td>\n",
       "      <td>fortaleza</td>\n",
       "      <td>NaN</td>\n",
       "    </tr>\n",
       "    <tr>\n",
       "      <th>8</th>\n",
       "      <td>Victor</td>\n",
       "      <td>5.000000</td>\n",
       "      <td>volante</td>\n",
       "      <td>None</td>\n",
       "      <td>1.67</td>\n",
       "    </tr>\n",
       "  </tbody>\n",
       "</table>\n",
       "</div>"
      ],
      "text/plain": [
       "       nome  qtd_gols    funcao     cidade  altura\n",
       "0   Alberto  1.000000  atacante  fortaleza    1.70\n",
       "1    Junior  2.000000  zagueiro   beberibe    1.69\n",
       "2  Fernando  1.000000      meia       None    1.72\n",
       "3   Gustavo  0.000000   volante       None     NaN\n",
       "4    Marcos  3.000000      None    quixadá    1.80\n",
       "5  Vinicios  1.857143      None  fortaleza    1.80\n",
       "6   Matheus  1.857143   goleiro  fortaleza    1.91\n",
       "7      Luan  1.000000      None  fortaleza     NaN\n",
       "8    Victor  5.000000   volante       None    1.67"
      ]
     },
     "execution_count": 22,
     "metadata": {},
     "output_type": "execute_result"
    }
   ],
   "source": [
    "atividade_data"
   ]
  },
  {
   "cell_type": "code",
   "execution_count": 23,
   "id": "2f4ef94c",
   "metadata": {},
   "outputs": [
    {
     "data": {
      "text/plain": [
       "3"
      ]
     },
     "execution_count": 23,
     "metadata": {},
     "output_type": "execute_result"
    }
   ],
   "source": [
    "atividade_data['funcao'].isnull().sum()"
   ]
  },
  {
   "cell_type": "code",
   "execution_count": 24,
   "id": "74ea6797",
   "metadata": {},
   "outputs": [],
   "source": [
    "atividade_data['funcao'].fillna(atividade_data['funcao'].mode()[0], inplace = True)"
   ]
  },
  {
   "cell_type": "code",
   "execution_count": 25,
   "id": "4c82afb5",
   "metadata": {},
   "outputs": [
    {
     "data": {
      "text/html": [
       "<div>\n",
       "<style scoped>\n",
       "    .dataframe tbody tr th:only-of-type {\n",
       "        vertical-align: middle;\n",
       "    }\n",
       "\n",
       "    .dataframe tbody tr th {\n",
       "        vertical-align: top;\n",
       "    }\n",
       "\n",
       "    .dataframe thead th {\n",
       "        text-align: right;\n",
       "    }\n",
       "</style>\n",
       "<table border=\"1\" class=\"dataframe\">\n",
       "  <thead>\n",
       "    <tr style=\"text-align: right;\">\n",
       "      <th></th>\n",
       "      <th>nome</th>\n",
       "      <th>qtd_gols</th>\n",
       "      <th>funcao</th>\n",
       "      <th>cidade</th>\n",
       "      <th>altura</th>\n",
       "    </tr>\n",
       "  </thead>\n",
       "  <tbody>\n",
       "    <tr>\n",
       "      <th>0</th>\n",
       "      <td>Alberto</td>\n",
       "      <td>1.000000</td>\n",
       "      <td>atacante</td>\n",
       "      <td>fortaleza</td>\n",
       "      <td>1.70</td>\n",
       "    </tr>\n",
       "    <tr>\n",
       "      <th>1</th>\n",
       "      <td>Junior</td>\n",
       "      <td>2.000000</td>\n",
       "      <td>zagueiro</td>\n",
       "      <td>beberibe</td>\n",
       "      <td>1.69</td>\n",
       "    </tr>\n",
       "    <tr>\n",
       "      <th>2</th>\n",
       "      <td>Fernando</td>\n",
       "      <td>1.000000</td>\n",
       "      <td>meia</td>\n",
       "      <td>None</td>\n",
       "      <td>1.72</td>\n",
       "    </tr>\n",
       "    <tr>\n",
       "      <th>3</th>\n",
       "      <td>Gustavo</td>\n",
       "      <td>0.000000</td>\n",
       "      <td>volante</td>\n",
       "      <td>None</td>\n",
       "      <td>NaN</td>\n",
       "    </tr>\n",
       "    <tr>\n",
       "      <th>4</th>\n",
       "      <td>Marcos</td>\n",
       "      <td>3.000000</td>\n",
       "      <td>volante</td>\n",
       "      <td>quixadá</td>\n",
       "      <td>1.80</td>\n",
       "    </tr>\n",
       "    <tr>\n",
       "      <th>5</th>\n",
       "      <td>Vinicios</td>\n",
       "      <td>1.857143</td>\n",
       "      <td>volante</td>\n",
       "      <td>fortaleza</td>\n",
       "      <td>1.80</td>\n",
       "    </tr>\n",
       "    <tr>\n",
       "      <th>6</th>\n",
       "      <td>Matheus</td>\n",
       "      <td>1.857143</td>\n",
       "      <td>goleiro</td>\n",
       "      <td>fortaleza</td>\n",
       "      <td>1.91</td>\n",
       "    </tr>\n",
       "    <tr>\n",
       "      <th>7</th>\n",
       "      <td>Luan</td>\n",
       "      <td>1.000000</td>\n",
       "      <td>volante</td>\n",
       "      <td>fortaleza</td>\n",
       "      <td>NaN</td>\n",
       "    </tr>\n",
       "    <tr>\n",
       "      <th>8</th>\n",
       "      <td>Victor</td>\n",
       "      <td>5.000000</td>\n",
       "      <td>volante</td>\n",
       "      <td>None</td>\n",
       "      <td>1.67</td>\n",
       "    </tr>\n",
       "  </tbody>\n",
       "</table>\n",
       "</div>"
      ],
      "text/plain": [
       "       nome  qtd_gols    funcao     cidade  altura\n",
       "0   Alberto  1.000000  atacante  fortaleza    1.70\n",
       "1    Junior  2.000000  zagueiro   beberibe    1.69\n",
       "2  Fernando  1.000000      meia       None    1.72\n",
       "3   Gustavo  0.000000   volante       None     NaN\n",
       "4    Marcos  3.000000   volante    quixadá    1.80\n",
       "5  Vinicios  1.857143   volante  fortaleza    1.80\n",
       "6   Matheus  1.857143   goleiro  fortaleza    1.91\n",
       "7      Luan  1.000000   volante  fortaleza     NaN\n",
       "8    Victor  5.000000   volante       None    1.67"
      ]
     },
     "execution_count": 25,
     "metadata": {},
     "output_type": "execute_result"
    }
   ],
   "source": [
    "atividade_data"
   ]
  },
  {
   "cell_type": "code",
   "execution_count": 26,
   "id": "aa92ec5f",
   "metadata": {},
   "outputs": [
    {
     "data": {
      "text/plain": [
       "3"
      ]
     },
     "execution_count": 26,
     "metadata": {},
     "output_type": "execute_result"
    }
   ],
   "source": [
    "atividade_data['cidade'].isnull().sum()"
   ]
  },
  {
   "cell_type": "code",
   "execution_count": 27,
   "id": "8bb7eb37",
   "metadata": {},
   "outputs": [],
   "source": [
    "atividade_data['cidade'].fillna('fortaleza', inplace = True)"
   ]
  },
  {
   "cell_type": "code",
   "execution_count": 28,
   "id": "d998badf",
   "metadata": {},
   "outputs": [
    {
     "data": {
      "text/html": [
       "<div>\n",
       "<style scoped>\n",
       "    .dataframe tbody tr th:only-of-type {\n",
       "        vertical-align: middle;\n",
       "    }\n",
       "\n",
       "    .dataframe tbody tr th {\n",
       "        vertical-align: top;\n",
       "    }\n",
       "\n",
       "    .dataframe thead th {\n",
       "        text-align: right;\n",
       "    }\n",
       "</style>\n",
       "<table border=\"1\" class=\"dataframe\">\n",
       "  <thead>\n",
       "    <tr style=\"text-align: right;\">\n",
       "      <th></th>\n",
       "      <th>nome</th>\n",
       "      <th>qtd_gols</th>\n",
       "      <th>funcao</th>\n",
       "      <th>cidade</th>\n",
       "      <th>altura</th>\n",
       "    </tr>\n",
       "  </thead>\n",
       "  <tbody>\n",
       "    <tr>\n",
       "      <th>0</th>\n",
       "      <td>Alberto</td>\n",
       "      <td>1.000000</td>\n",
       "      <td>atacante</td>\n",
       "      <td>fortaleza</td>\n",
       "      <td>1.70</td>\n",
       "    </tr>\n",
       "    <tr>\n",
       "      <th>1</th>\n",
       "      <td>Junior</td>\n",
       "      <td>2.000000</td>\n",
       "      <td>zagueiro</td>\n",
       "      <td>beberibe</td>\n",
       "      <td>1.69</td>\n",
       "    </tr>\n",
       "    <tr>\n",
       "      <th>2</th>\n",
       "      <td>Fernando</td>\n",
       "      <td>1.000000</td>\n",
       "      <td>meia</td>\n",
       "      <td>fortaleza</td>\n",
       "      <td>1.72</td>\n",
       "    </tr>\n",
       "    <tr>\n",
       "      <th>3</th>\n",
       "      <td>Gustavo</td>\n",
       "      <td>0.000000</td>\n",
       "      <td>volante</td>\n",
       "      <td>fortaleza</td>\n",
       "      <td>NaN</td>\n",
       "    </tr>\n",
       "    <tr>\n",
       "      <th>4</th>\n",
       "      <td>Marcos</td>\n",
       "      <td>3.000000</td>\n",
       "      <td>volante</td>\n",
       "      <td>quixadá</td>\n",
       "      <td>1.80</td>\n",
       "    </tr>\n",
       "    <tr>\n",
       "      <th>5</th>\n",
       "      <td>Vinicios</td>\n",
       "      <td>1.857143</td>\n",
       "      <td>volante</td>\n",
       "      <td>fortaleza</td>\n",
       "      <td>1.80</td>\n",
       "    </tr>\n",
       "    <tr>\n",
       "      <th>6</th>\n",
       "      <td>Matheus</td>\n",
       "      <td>1.857143</td>\n",
       "      <td>goleiro</td>\n",
       "      <td>fortaleza</td>\n",
       "      <td>1.91</td>\n",
       "    </tr>\n",
       "    <tr>\n",
       "      <th>7</th>\n",
       "      <td>Luan</td>\n",
       "      <td>1.000000</td>\n",
       "      <td>volante</td>\n",
       "      <td>fortaleza</td>\n",
       "      <td>NaN</td>\n",
       "    </tr>\n",
       "    <tr>\n",
       "      <th>8</th>\n",
       "      <td>Victor</td>\n",
       "      <td>5.000000</td>\n",
       "      <td>volante</td>\n",
       "      <td>fortaleza</td>\n",
       "      <td>1.67</td>\n",
       "    </tr>\n",
       "  </tbody>\n",
       "</table>\n",
       "</div>"
      ],
      "text/plain": [
       "       nome  qtd_gols    funcao     cidade  altura\n",
       "0   Alberto  1.000000  atacante  fortaleza    1.70\n",
       "1    Junior  2.000000  zagueiro   beberibe    1.69\n",
       "2  Fernando  1.000000      meia  fortaleza    1.72\n",
       "3   Gustavo  0.000000   volante  fortaleza     NaN\n",
       "4    Marcos  3.000000   volante    quixadá    1.80\n",
       "5  Vinicios  1.857143   volante  fortaleza    1.80\n",
       "6   Matheus  1.857143   goleiro  fortaleza    1.91\n",
       "7      Luan  1.000000   volante  fortaleza     NaN\n",
       "8    Victor  5.000000   volante  fortaleza    1.67"
      ]
     },
     "execution_count": 28,
     "metadata": {},
     "output_type": "execute_result"
    }
   ],
   "source": [
    "atividade_data"
   ]
  },
  {
   "cell_type": "code",
   "execution_count": 29,
   "id": "4dae1d7f",
   "metadata": {},
   "outputs": [
    {
     "data": {
      "text/plain": [
       "2"
      ]
     },
     "execution_count": 29,
     "metadata": {},
     "output_type": "execute_result"
    }
   ],
   "source": [
    "atividade_data['altura'].isnull().sum()"
   ]
  },
  {
   "cell_type": "code",
   "execution_count": 30,
   "id": "463c1032",
   "metadata": {},
   "outputs": [],
   "source": [
    "atividade_data['altura'].fillna(atividade_data['altura'].median(), inplace =True)"
   ]
  },
  {
   "cell_type": "code",
   "execution_count": 31,
   "id": "0b60bded",
   "metadata": {},
   "outputs": [
    {
     "data": {
      "text/html": [
       "<div>\n",
       "<style scoped>\n",
       "    .dataframe tbody tr th:only-of-type {\n",
       "        vertical-align: middle;\n",
       "    }\n",
       "\n",
       "    .dataframe tbody tr th {\n",
       "        vertical-align: top;\n",
       "    }\n",
       "\n",
       "    .dataframe thead th {\n",
       "        text-align: right;\n",
       "    }\n",
       "</style>\n",
       "<table border=\"1\" class=\"dataframe\">\n",
       "  <thead>\n",
       "    <tr style=\"text-align: right;\">\n",
       "      <th></th>\n",
       "      <th>nome</th>\n",
       "      <th>qtd_gols</th>\n",
       "      <th>funcao</th>\n",
       "      <th>cidade</th>\n",
       "      <th>altura</th>\n",
       "    </tr>\n",
       "  </thead>\n",
       "  <tbody>\n",
       "    <tr>\n",
       "      <th>0</th>\n",
       "      <td>Alberto</td>\n",
       "      <td>1.000000</td>\n",
       "      <td>atacante</td>\n",
       "      <td>fortaleza</td>\n",
       "      <td>1.70</td>\n",
       "    </tr>\n",
       "    <tr>\n",
       "      <th>1</th>\n",
       "      <td>Junior</td>\n",
       "      <td>2.000000</td>\n",
       "      <td>zagueiro</td>\n",
       "      <td>beberibe</td>\n",
       "      <td>1.69</td>\n",
       "    </tr>\n",
       "    <tr>\n",
       "      <th>2</th>\n",
       "      <td>Fernando</td>\n",
       "      <td>1.000000</td>\n",
       "      <td>meia</td>\n",
       "      <td>fortaleza</td>\n",
       "      <td>1.72</td>\n",
       "    </tr>\n",
       "    <tr>\n",
       "      <th>3</th>\n",
       "      <td>Gustavo</td>\n",
       "      <td>0.000000</td>\n",
       "      <td>volante</td>\n",
       "      <td>fortaleza</td>\n",
       "      <td>1.72</td>\n",
       "    </tr>\n",
       "    <tr>\n",
       "      <th>4</th>\n",
       "      <td>Marcos</td>\n",
       "      <td>3.000000</td>\n",
       "      <td>volante</td>\n",
       "      <td>quixadá</td>\n",
       "      <td>1.80</td>\n",
       "    </tr>\n",
       "    <tr>\n",
       "      <th>5</th>\n",
       "      <td>Vinicios</td>\n",
       "      <td>1.857143</td>\n",
       "      <td>volante</td>\n",
       "      <td>fortaleza</td>\n",
       "      <td>1.80</td>\n",
       "    </tr>\n",
       "    <tr>\n",
       "      <th>6</th>\n",
       "      <td>Matheus</td>\n",
       "      <td>1.857143</td>\n",
       "      <td>goleiro</td>\n",
       "      <td>fortaleza</td>\n",
       "      <td>1.91</td>\n",
       "    </tr>\n",
       "    <tr>\n",
       "      <th>7</th>\n",
       "      <td>Luan</td>\n",
       "      <td>1.000000</td>\n",
       "      <td>volante</td>\n",
       "      <td>fortaleza</td>\n",
       "      <td>1.72</td>\n",
       "    </tr>\n",
       "    <tr>\n",
       "      <th>8</th>\n",
       "      <td>Victor</td>\n",
       "      <td>5.000000</td>\n",
       "      <td>volante</td>\n",
       "      <td>fortaleza</td>\n",
       "      <td>1.67</td>\n",
       "    </tr>\n",
       "  </tbody>\n",
       "</table>\n",
       "</div>"
      ],
      "text/plain": [
       "       nome  qtd_gols    funcao     cidade  altura\n",
       "0   Alberto  1.000000  atacante  fortaleza    1.70\n",
       "1    Junior  2.000000  zagueiro   beberibe    1.69\n",
       "2  Fernando  1.000000      meia  fortaleza    1.72\n",
       "3   Gustavo  0.000000   volante  fortaleza    1.72\n",
       "4    Marcos  3.000000   volante    quixadá    1.80\n",
       "5  Vinicios  1.857143   volante  fortaleza    1.80\n",
       "6   Matheus  1.857143   goleiro  fortaleza    1.91\n",
       "7      Luan  1.000000   volante  fortaleza    1.72\n",
       "8    Victor  5.000000   volante  fortaleza    1.67"
      ]
     },
     "execution_count": 31,
     "metadata": {},
     "output_type": "execute_result"
    }
   ],
   "source": [
    "atividade_data"
   ]
  },
  {
   "cell_type": "code",
   "execution_count": 32,
   "id": "db1cb3b8",
   "metadata": {},
   "outputs": [
    {
     "data": {
      "text/html": [
       "<div>\n",
       "<style scoped>\n",
       "    .dataframe tbody tr th:only-of-type {\n",
       "        vertical-align: middle;\n",
       "    }\n",
       "\n",
       "    .dataframe tbody tr th {\n",
       "        vertical-align: top;\n",
       "    }\n",
       "\n",
       "    .dataframe thead th {\n",
       "        text-align: right;\n",
       "    }\n",
       "</style>\n",
       "<table border=\"1\" class=\"dataframe\">\n",
       "  <thead>\n",
       "    <tr style=\"text-align: right;\">\n",
       "      <th></th>\n",
       "      <th>nome</th>\n",
       "      <th>qtd_gols</th>\n",
       "      <th>funcao</th>\n",
       "      <th>cidade</th>\n",
       "      <th>altura</th>\n",
       "    </tr>\n",
       "  </thead>\n",
       "  <tbody>\n",
       "    <tr>\n",
       "      <th>3</th>\n",
       "      <td>Gustavo</td>\n",
       "      <td>0.000000</td>\n",
       "      <td>volante</td>\n",
       "      <td>fortaleza</td>\n",
       "      <td>1.72</td>\n",
       "    </tr>\n",
       "    <tr>\n",
       "      <th>5</th>\n",
       "      <td>Vinicios</td>\n",
       "      <td>1.857143</td>\n",
       "      <td>volante</td>\n",
       "      <td>fortaleza</td>\n",
       "      <td>1.80</td>\n",
       "    </tr>\n",
       "    <tr>\n",
       "      <th>7</th>\n",
       "      <td>Luan</td>\n",
       "      <td>1.000000</td>\n",
       "      <td>volante</td>\n",
       "      <td>fortaleza</td>\n",
       "      <td>1.72</td>\n",
       "    </tr>\n",
       "    <tr>\n",
       "      <th>8</th>\n",
       "      <td>Victor</td>\n",
       "      <td>5.000000</td>\n",
       "      <td>volante</td>\n",
       "      <td>fortaleza</td>\n",
       "      <td>1.67</td>\n",
       "    </tr>\n",
       "  </tbody>\n",
       "</table>\n",
       "</div>"
      ],
      "text/plain": [
       "       nome  qtd_gols   funcao     cidade  altura\n",
       "3   Gustavo  0.000000  volante  fortaleza    1.72\n",
       "5  Vinicios  1.857143  volante  fortaleza    1.80\n",
       "7      Luan  1.000000  volante  fortaleza    1.72\n",
       "8    Victor  5.000000  volante  fortaleza    1.67"
      ]
     },
     "execution_count": 32,
     "metadata": {},
     "output_type": "execute_result"
    }
   ],
   "source": [
    "atividade_data.loc[(atividade_data['funcao'] == 'volante') & (atividade_data['cidade'] == 'fortaleza')]"
   ]
  },
  {
   "cell_type": "markdown",
   "id": "6b61f614",
   "metadata": {},
   "source": [
    "# Novo dataframe"
   ]
  },
  {
   "cell_type": "code",
   "execution_count": 33,
   "id": "fec9c162",
   "metadata": {},
   "outputs": [
    {
     "data": {
      "text/html": [
       "<div>\n",
       "<style scoped>\n",
       "    .dataframe tbody tr th:only-of-type {\n",
       "        vertical-align: middle;\n",
       "    }\n",
       "\n",
       "    .dataframe tbody tr th {\n",
       "        vertical-align: top;\n",
       "    }\n",
       "\n",
       "    .dataframe thead th {\n",
       "        text-align: right;\n",
       "    }\n",
       "</style>\n",
       "<table border=\"1\" class=\"dataframe\">\n",
       "  <thead>\n",
       "    <tr style=\"text-align: right;\">\n",
       "      <th></th>\n",
       "      <th>PassengerId</th>\n",
       "      <th>Survived</th>\n",
       "      <th>Pclass</th>\n",
       "      <th>Name</th>\n",
       "      <th>Sex</th>\n",
       "      <th>Age</th>\n",
       "      <th>SibSp</th>\n",
       "      <th>Parch</th>\n",
       "      <th>Ticket</th>\n",
       "      <th>Fare</th>\n",
       "      <th>Cabin</th>\n",
       "      <th>Embarked</th>\n",
       "    </tr>\n",
       "  </thead>\n",
       "  <tbody>\n",
       "    <tr>\n",
       "      <th>0</th>\n",
       "      <td>1</td>\n",
       "      <td>0</td>\n",
       "      <td>3</td>\n",
       "      <td>Braund, Mr. Owen Harris</td>\n",
       "      <td>male</td>\n",
       "      <td>22.0</td>\n",
       "      <td>1</td>\n",
       "      <td>0</td>\n",
       "      <td>A/5 21171</td>\n",
       "      <td>7.2500</td>\n",
       "      <td>NaN</td>\n",
       "      <td>S</td>\n",
       "    </tr>\n",
       "    <tr>\n",
       "      <th>1</th>\n",
       "      <td>2</td>\n",
       "      <td>1</td>\n",
       "      <td>1</td>\n",
       "      <td>Cumings, Mrs. John Bradley (Florence Briggs Th...</td>\n",
       "      <td>female</td>\n",
       "      <td>38.0</td>\n",
       "      <td>1</td>\n",
       "      <td>0</td>\n",
       "      <td>PC 17599</td>\n",
       "      <td>71.2833</td>\n",
       "      <td>C85</td>\n",
       "      <td>C</td>\n",
       "    </tr>\n",
       "    <tr>\n",
       "      <th>2</th>\n",
       "      <td>3</td>\n",
       "      <td>1</td>\n",
       "      <td>3</td>\n",
       "      <td>Heikkinen, Miss. Laina</td>\n",
       "      <td>female</td>\n",
       "      <td>26.0</td>\n",
       "      <td>0</td>\n",
       "      <td>0</td>\n",
       "      <td>STON/O2. 3101282</td>\n",
       "      <td>7.9250</td>\n",
       "      <td>NaN</td>\n",
       "      <td>S</td>\n",
       "    </tr>\n",
       "    <tr>\n",
       "      <th>3</th>\n",
       "      <td>4</td>\n",
       "      <td>1</td>\n",
       "      <td>1</td>\n",
       "      <td>Futrelle, Mrs. Jacques Heath (Lily May Peel)</td>\n",
       "      <td>female</td>\n",
       "      <td>35.0</td>\n",
       "      <td>1</td>\n",
       "      <td>0</td>\n",
       "      <td>113803</td>\n",
       "      <td>53.1000</td>\n",
       "      <td>C123</td>\n",
       "      <td>S</td>\n",
       "    </tr>\n",
       "    <tr>\n",
       "      <th>4</th>\n",
       "      <td>5</td>\n",
       "      <td>0</td>\n",
       "      <td>3</td>\n",
       "      <td>Allen, Mr. William Henry</td>\n",
       "      <td>male</td>\n",
       "      <td>35.0</td>\n",
       "      <td>0</td>\n",
       "      <td>0</td>\n",
       "      <td>373450</td>\n",
       "      <td>8.0500</td>\n",
       "      <td>NaN</td>\n",
       "      <td>S</td>\n",
       "    </tr>\n",
       "    <tr>\n",
       "      <th>...</th>\n",
       "      <td>...</td>\n",
       "      <td>...</td>\n",
       "      <td>...</td>\n",
       "      <td>...</td>\n",
       "      <td>...</td>\n",
       "      <td>...</td>\n",
       "      <td>...</td>\n",
       "      <td>...</td>\n",
       "      <td>...</td>\n",
       "      <td>...</td>\n",
       "      <td>...</td>\n",
       "      <td>...</td>\n",
       "    </tr>\n",
       "    <tr>\n",
       "      <th>886</th>\n",
       "      <td>887</td>\n",
       "      <td>0</td>\n",
       "      <td>2</td>\n",
       "      <td>Montvila, Rev. Juozas</td>\n",
       "      <td>male</td>\n",
       "      <td>27.0</td>\n",
       "      <td>0</td>\n",
       "      <td>0</td>\n",
       "      <td>211536</td>\n",
       "      <td>13.0000</td>\n",
       "      <td>NaN</td>\n",
       "      <td>S</td>\n",
       "    </tr>\n",
       "    <tr>\n",
       "      <th>887</th>\n",
       "      <td>888</td>\n",
       "      <td>1</td>\n",
       "      <td>1</td>\n",
       "      <td>Graham, Miss. Margaret Edith</td>\n",
       "      <td>female</td>\n",
       "      <td>19.0</td>\n",
       "      <td>0</td>\n",
       "      <td>0</td>\n",
       "      <td>112053</td>\n",
       "      <td>30.0000</td>\n",
       "      <td>B42</td>\n",
       "      <td>S</td>\n",
       "    </tr>\n",
       "    <tr>\n",
       "      <th>888</th>\n",
       "      <td>889</td>\n",
       "      <td>0</td>\n",
       "      <td>3</td>\n",
       "      <td>Johnston, Miss. Catherine Helen \"Carrie\"</td>\n",
       "      <td>female</td>\n",
       "      <td>NaN</td>\n",
       "      <td>1</td>\n",
       "      <td>2</td>\n",
       "      <td>W./C. 6607</td>\n",
       "      <td>23.4500</td>\n",
       "      <td>NaN</td>\n",
       "      <td>S</td>\n",
       "    </tr>\n",
       "    <tr>\n",
       "      <th>889</th>\n",
       "      <td>890</td>\n",
       "      <td>1</td>\n",
       "      <td>1</td>\n",
       "      <td>Behr, Mr. Karl Howell</td>\n",
       "      <td>male</td>\n",
       "      <td>26.0</td>\n",
       "      <td>0</td>\n",
       "      <td>0</td>\n",
       "      <td>111369</td>\n",
       "      <td>30.0000</td>\n",
       "      <td>C148</td>\n",
       "      <td>C</td>\n",
       "    </tr>\n",
       "    <tr>\n",
       "      <th>890</th>\n",
       "      <td>891</td>\n",
       "      <td>0</td>\n",
       "      <td>3</td>\n",
       "      <td>Dooley, Mr. Patrick</td>\n",
       "      <td>male</td>\n",
       "      <td>32.0</td>\n",
       "      <td>0</td>\n",
       "      <td>0</td>\n",
       "      <td>370376</td>\n",
       "      <td>7.7500</td>\n",
       "      <td>NaN</td>\n",
       "      <td>Q</td>\n",
       "    </tr>\n",
       "  </tbody>\n",
       "</table>\n",
       "<p>891 rows × 12 columns</p>\n",
       "</div>"
      ],
      "text/plain": [
       "     PassengerId  Survived  Pclass  \\\n",
       "0              1         0       3   \n",
       "1              2         1       1   \n",
       "2              3         1       3   \n",
       "3              4         1       1   \n",
       "4              5         0       3   \n",
       "..           ...       ...     ...   \n",
       "886          887         0       2   \n",
       "887          888         1       1   \n",
       "888          889         0       3   \n",
       "889          890         1       1   \n",
       "890          891         0       3   \n",
       "\n",
       "                                                  Name     Sex   Age  SibSp  \\\n",
       "0                              Braund, Mr. Owen Harris    male  22.0      1   \n",
       "1    Cumings, Mrs. John Bradley (Florence Briggs Th...  female  38.0      1   \n",
       "2                               Heikkinen, Miss. Laina  female  26.0      0   \n",
       "3         Futrelle, Mrs. Jacques Heath (Lily May Peel)  female  35.0      1   \n",
       "4                             Allen, Mr. William Henry    male  35.0      0   \n",
       "..                                                 ...     ...   ...    ...   \n",
       "886                              Montvila, Rev. Juozas    male  27.0      0   \n",
       "887                       Graham, Miss. Margaret Edith  female  19.0      0   \n",
       "888           Johnston, Miss. Catherine Helen \"Carrie\"  female   NaN      1   \n",
       "889                              Behr, Mr. Karl Howell    male  26.0      0   \n",
       "890                                Dooley, Mr. Patrick    male  32.0      0   \n",
       "\n",
       "     Parch            Ticket     Fare Cabin Embarked  \n",
       "0        0         A/5 21171   7.2500   NaN        S  \n",
       "1        0          PC 17599  71.2833   C85        C  \n",
       "2        0  STON/O2. 3101282   7.9250   NaN        S  \n",
       "3        0            113803  53.1000  C123        S  \n",
       "4        0            373450   8.0500   NaN        S  \n",
       "..     ...               ...      ...   ...      ...  \n",
       "886      0            211536  13.0000   NaN        S  \n",
       "887      0            112053  30.0000   B42        S  \n",
       "888      2        W./C. 6607  23.4500   NaN        S  \n",
       "889      0            111369  30.0000  C148        C  \n",
       "890      0            370376   7.7500   NaN        Q  \n",
       "\n",
       "[891 rows x 12 columns]"
      ]
     },
     "execution_count": 33,
     "metadata": {},
     "output_type": "execute_result"
    }
   ],
   "source": [
    "titanic = pd.read_csv('train.csv')\n",
    "titanic"
   ]
  },
  {
   "cell_type": "code",
   "execution_count": 34,
   "id": "856529b0",
   "metadata": {},
   "outputs": [
    {
     "data": {
      "text/plain": [
       "PassengerId    342\n",
       "Survived       342\n",
       "Pclass         342\n",
       "Name           342\n",
       "Sex            342\n",
       "Age            290\n",
       "SibSp          342\n",
       "Parch          342\n",
       "Ticket         342\n",
       "Fare           342\n",
       "Cabin          136\n",
       "Embarked       340\n",
       "dtype: int64"
      ]
     },
     "execution_count": 34,
     "metadata": {},
     "output_type": "execute_result"
    }
   ],
   "source": [
    "titanic.loc[titanic['Survived'] == 1].count()"
   ]
  },
  {
   "cell_type": "code",
   "execution_count": 35,
   "id": "0713d8f8",
   "metadata": {},
   "outputs": [
    {
     "data": {
      "text/plain": [
       "177"
      ]
     },
     "execution_count": 35,
     "metadata": {},
     "output_type": "execute_result"
    }
   ],
   "source": [
    "titanic['Age'].isnull().sum()"
   ]
  },
  {
   "cell_type": "code",
   "execution_count": 36,
   "id": "c595ff1e",
   "metadata": {},
   "outputs": [],
   "source": [
    "titanic['Age'].fillna(titanic['Age'].median(), inplace =True)"
   ]
  },
  {
   "cell_type": "code",
   "execution_count": 37,
   "id": "686dd8cc",
   "metadata": {},
   "outputs": [
    {
     "data": {
      "text/plain": [
       "2"
      ]
     },
     "execution_count": 37,
     "metadata": {},
     "output_type": "execute_result"
    }
   ],
   "source": [
    "titanic['Embarked'].isnull().sum()"
   ]
  },
  {
   "cell_type": "code",
   "execution_count": 38,
   "id": "d69e987a",
   "metadata": {},
   "outputs": [],
   "source": [
    "titanic['Embarked'].fillna('porto', inplace = True)"
   ]
  },
  {
   "cell_type": "code",
   "execution_count": 39,
   "id": "916c52ec",
   "metadata": {},
   "outputs": [
    {
     "data": {
      "text/plain": [
       "29.36158249158249"
      ]
     },
     "execution_count": 39,
     "metadata": {},
     "output_type": "execute_result"
    }
   ],
   "source": [
    "titanic['Age'].mean()"
   ]
  },
  {
   "cell_type": "code",
   "execution_count": 40,
   "id": "9d544006",
   "metadata": {},
   "outputs": [
    {
     "data": {
      "text/plain": [
       "28.716738197424892"
      ]
     },
     "execution_count": 40,
     "metadata": {},
     "output_type": "execute_result"
    }
   ],
   "source": [
    "titanic['Age'].loc[((titanic['Sex'] == 'female') & (titanic['Survived'] == 1))].mean()"
   ]
  },
  {
   "cell_type": "code",
   "execution_count": 41,
   "id": "3a4d0d78",
   "metadata": {},
   "outputs": [
    {
     "data": {
      "text/plain": [
       "27.382293577981653"
      ]
     },
     "execution_count": 41,
     "metadata": {},
     "output_type": "execute_result"
    }
   ],
   "source": [
    "titanic['Age'].loc[((titanic['Sex'] == 'male') & (titanic['Survived'] == 1))].mean()"
   ]
  },
  {
   "cell_type": "code",
   "execution_count": 42,
   "id": "70221af5",
   "metadata": {},
   "outputs": [
    {
     "data": {
      "text/plain": [
       "25.666666666666668"
      ]
     },
     "execution_count": 42,
     "metadata": {},
     "output_type": "execute_result"
    }
   ],
   "source": [
    "titanic['Age'].loc[((titanic['Sex'] == 'female') & (titanic['Survived'] == 0))].mean()"
   ]
  },
  {
   "cell_type": "code",
   "execution_count": 43,
   "id": "dc59249b",
   "metadata": {},
   "outputs": [
    {
     "data": {
      "text/plain": [
       "30.78311965811966"
      ]
     },
     "execution_count": 43,
     "metadata": {},
     "output_type": "execute_result"
    }
   ],
   "source": [
    "titanic['Age'].loc[((titanic['Sex'] == 'male') & (titanic['Survived'] == 0))].mean()"
   ]
  },
  {
   "cell_type": "code",
   "execution_count": 44,
   "id": "ff8eecfb",
   "metadata": {},
   "outputs": [
    {
     "data": {
      "text/plain": [
       "30.028233151183972"
      ]
     },
     "execution_count": 44,
     "metadata": {},
     "output_type": "execute_result"
    }
   ],
   "source": [
    "titanic['Age'].loc[titanic['Survived'] == 0].mean()"
   ]
  },
  {
   "cell_type": "code",
   "execution_count": 45,
   "id": "f83c25de",
   "metadata": {},
   "outputs": [
    {
     "data": {
      "text/plain": [
       "468"
      ]
     },
     "execution_count": 45,
     "metadata": {},
     "output_type": "execute_result"
    }
   ],
   "source": [
    "titanic['Sex'].loc[(titanic['Sex'] == 'male') & (titanic['Survived'] == 0)].count()"
   ]
  },
  {
   "cell_type": "code",
   "execution_count": 46,
   "id": "852b2493",
   "metadata": {},
   "outputs": [
    {
     "data": {
      "text/plain": [
       "81"
      ]
     },
     "execution_count": 46,
     "metadata": {},
     "output_type": "execute_result"
    }
   ],
   "source": [
    "titanic['Sex'].loc[(titanic['Sex'] == 'female') & (titanic['Survived'] == 0)].count()"
   ]
  },
  {
   "cell_type": "code",
   "execution_count": 47,
   "id": "45aed439",
   "metadata": {},
   "outputs": [
    {
     "data": {
      "text/plain": [
       "109"
      ]
     },
     "execution_count": 47,
     "metadata": {},
     "output_type": "execute_result"
    }
   ],
   "source": [
    "titanic['Sex'].loc[(titanic['Sex'] == 'male') & (titanic['Survived'] == 1)].count()"
   ]
  },
  {
   "cell_type": "code",
   "execution_count": 48,
   "id": "e545510a",
   "metadata": {},
   "outputs": [
    {
     "data": {
      "text/plain": [
       "233"
      ]
     },
     "execution_count": 48,
     "metadata": {},
     "output_type": "execute_result"
    }
   ],
   "source": [
    "titanic['Sex'].loc[(titanic['Sex'] == 'female') & (titanic['Survived'] == 1)].count()"
   ]
  },
  {
   "cell_type": "code",
   "execution_count": 49,
   "id": "379fccf3",
   "metadata": {},
   "outputs": [
    {
     "data": {
      "text/plain": [
       "136"
      ]
     },
     "execution_count": 49,
     "metadata": {},
     "output_type": "execute_result"
    }
   ],
   "source": [
    "titanic['Pclass'].loc[(titanic['Survived'] == 1) & (titanic['Pclass'] == 1)].count()"
   ]
  },
  {
   "cell_type": "code",
   "execution_count": 50,
   "id": "8489c345",
   "metadata": {},
   "outputs": [
    {
     "data": {
      "text/plain": [
       "80"
      ]
     },
     "execution_count": 50,
     "metadata": {},
     "output_type": "execute_result"
    }
   ],
   "source": [
    "titanic['Pclass'].loc[(titanic['Survived'] == 0) & (titanic['Pclass'] == 1)].count()"
   ]
  },
  {
   "cell_type": "code",
   "execution_count": 51,
   "id": "70dfe6c3",
   "metadata": {},
   "outputs": [
    {
     "data": {
      "text/plain": [
       "87"
      ]
     },
     "execution_count": 51,
     "metadata": {},
     "output_type": "execute_result"
    }
   ],
   "source": [
    "titanic['Pclass'].loc[(titanic['Survived'] == 1) & (titanic['Pclass'] == 2)].count()"
   ]
  },
  {
   "cell_type": "code",
   "execution_count": 52,
   "id": "075191ff",
   "metadata": {},
   "outputs": [
    {
     "data": {
      "text/plain": [
       "97"
      ]
     },
     "execution_count": 52,
     "metadata": {},
     "output_type": "execute_result"
    }
   ],
   "source": [
    "titanic['Pclass'].loc[(titanic['Survived'] == 0) & (titanic['Pclass'] == 2)].count()"
   ]
  },
  {
   "cell_type": "code",
   "execution_count": 53,
   "id": "86c51524",
   "metadata": {},
   "outputs": [
    {
     "data": {
      "text/plain": [
       "119"
      ]
     },
     "execution_count": 53,
     "metadata": {},
     "output_type": "execute_result"
    }
   ],
   "source": [
    "titanic['Pclass'].loc[(titanic['Survived'] == 1) & (titanic['Pclass'] == 3)].count()"
   ]
  },
  {
   "cell_type": "code",
   "execution_count": 54,
   "id": "12aed5d7",
   "metadata": {},
   "outputs": [
    {
     "data": {
      "text/plain": [
       "372"
      ]
     },
     "execution_count": 54,
     "metadata": {},
     "output_type": "execute_result"
    }
   ],
   "source": [
    "titanic['Pclass'].loc[(titanic['Survived'] == 0) & (titanic['Pclass'] == 3)].count()"
   ]
  },
  {
   "cell_type": "code",
   "execution_count": 55,
   "id": "6ab9eeee",
   "metadata": {},
   "outputs": [
    {
     "data": {
      "text/plain": [
       "36.81212962962963"
      ]
     },
     "execution_count": 55,
     "metadata": {},
     "output_type": "execute_result"
    }
   ],
   "source": [
    "titanic['Age'].loc[titanic['Pclass'] == 1].mean()"
   ]
  },
  {
   "cell_type": "code",
   "execution_count": 56,
   "id": "4158b4de",
   "metadata": {},
   "outputs": [
    {
     "data": {
      "text/plain": [
       "29.765380434782607"
      ]
     },
     "execution_count": 56,
     "metadata": {},
     "output_type": "execute_result"
    }
   ],
   "source": [
    "titanic['Age'].loc[titanic['Pclass'] == 2].mean()"
   ]
  },
  {
   "cell_type": "code",
   "execution_count": 57,
   "id": "451164d7",
   "metadata": {},
   "outputs": [
    {
     "data": {
      "text/plain": [
       "25.932627291242362"
      ]
     },
     "execution_count": 57,
     "metadata": {},
     "output_type": "execute_result"
    }
   ],
   "source": [
    "titanic['Age'].loc[titanic['Pclass'] == 3].mean()"
   ]
  },
  {
   "cell_type": "code",
   "execution_count": 58,
   "id": "34e6c00d",
   "metadata": {},
   "outputs": [
    {
     "data": {
      "text/plain": [
       "122"
      ]
     },
     "execution_count": 58,
     "metadata": {},
     "output_type": "execute_result"
    }
   ],
   "source": [
    "titanic['Sex'].loc[(titanic['Sex'] == 'male') & (titanic['Pclass'] == 1)].count()"
   ]
  },
  {
   "cell_type": "code",
   "execution_count": 59,
   "id": "d0338bdf",
   "metadata": {},
   "outputs": [
    {
     "data": {
      "text/plain": [
       "108"
      ]
     },
     "execution_count": 59,
     "metadata": {},
     "output_type": "execute_result"
    }
   ],
   "source": [
    "titanic['Sex'].loc[(titanic['Sex'] == 'male') & (titanic['Pclass'] == 2)].count()"
   ]
  },
  {
   "cell_type": "code",
   "execution_count": 60,
   "id": "876936fb",
   "metadata": {},
   "outputs": [
    {
     "data": {
      "text/plain": [
       "347"
      ]
     },
     "execution_count": 60,
     "metadata": {},
     "output_type": "execute_result"
    }
   ],
   "source": [
    "titanic['Sex'].loc[(titanic['Sex'] == 'male') & (titanic['Pclass'] == 3)].count()"
   ]
  },
  {
   "cell_type": "code",
   "execution_count": 61,
   "id": "17a04c63",
   "metadata": {},
   "outputs": [
    {
     "data": {
      "text/plain": [
       "94"
      ]
     },
     "execution_count": 61,
     "metadata": {},
     "output_type": "execute_result"
    }
   ],
   "source": [
    "titanic['Sex'].loc[(titanic['Sex'] == 'female') & (titanic['Pclass'] == 1)].count()"
   ]
  },
  {
   "cell_type": "code",
   "execution_count": 62,
   "id": "b706531c",
   "metadata": {},
   "outputs": [
    {
     "data": {
      "text/plain": [
       "76"
      ]
     },
     "execution_count": 62,
     "metadata": {},
     "output_type": "execute_result"
    }
   ],
   "source": [
    "titanic['Sex'].loc[(titanic['Sex'] == 'female') & (titanic['Pclass'] == 2)].count()"
   ]
  },
  {
   "cell_type": "code",
   "execution_count": 63,
   "id": "21a325f3",
   "metadata": {},
   "outputs": [
    {
     "data": {
      "text/plain": [
       "144"
      ]
     },
     "execution_count": 63,
     "metadata": {},
     "output_type": "execute_result"
    }
   ],
   "source": [
    "titanic['Sex'].loc[(titanic['Sex'] == 'female') & (titanic['Pclass'] == 3)].count()"
   ]
  },
  {
   "cell_type": "code",
   "execution_count": 64,
   "id": "448bbb15",
   "metadata": {},
   "outputs": [
    {
     "data": {
      "text/plain": [
       "34.252747252747255"
      ]
     },
     "execution_count": 64,
     "metadata": {},
     "output_type": "execute_result"
    }
   ],
   "source": [
    "titanic['Age'].loc[(titanic['Sex'] == 'female') &\n",
    "                   (titanic['Pclass'] == 1) &\n",
    "                   (titanic['Survived'] == 1)].mean()"
   ]
  },
  {
   "cell_type": "code",
   "execution_count": 65,
   "id": "76cf738f",
   "metadata": {},
   "outputs": [
    {
     "data": {
      "text/plain": [
       "28.07857142857143"
      ]
     },
     "execution_count": 65,
     "metadata": {},
     "output_type": "execute_result"
    }
   ],
   "source": [
    "titanic['Age'].loc[(titanic['Sex'] == 'female') &\n",
    "                   (titanic['Pclass'] == 2) &\n",
    "                   (titanic['Survived'] == 1)].mean()"
   ]
  },
  {
   "cell_type": "code",
   "execution_count": 66,
   "id": "7a831e2f",
   "metadata": {},
   "outputs": [
    {
     "data": {
      "text/plain": [
       "22.34027777777778"
      ]
     },
     "execution_count": 66,
     "metadata": {},
     "output_type": "execute_result"
    }
   ],
   "source": [
    "titanic['Age'].loc[(titanic['Sex'] == 'female') &\n",
    "                   (titanic['Pclass'] == 3) &\n",
    "                   (titanic['Survived'] == 1)].mean()"
   ]
  },
  {
   "cell_type": "code",
   "execution_count": 67,
   "id": "05b77897",
   "metadata": {},
   "outputs": [
    {
     "data": {
      "text/plain": [
       "25.666666666666668"
      ]
     },
     "execution_count": 67,
     "metadata": {},
     "output_type": "execute_result"
    }
   ],
   "source": [
    "titanic['Age'].loc[(titanic['Sex'] == 'female') &\n",
    "                   (titanic['Pclass'] == 1) &\n",
    "                   (titanic['Survived'] == 0)].mean()"
   ]
  },
  {
   "cell_type": "code",
   "execution_count": 68,
   "id": "37886bcc",
   "metadata": {},
   "outputs": [
    {
     "data": {
      "text/plain": [
       "36.0"
      ]
     },
     "execution_count": 68,
     "metadata": {},
     "output_type": "execute_result"
    }
   ],
   "source": [
    "titanic['Age'].loc[(titanic['Sex'] == 'female') &\n",
    "                   (titanic['Pclass'] == 2) &\n",
    "                   (titanic['Survived'] == 0)].mean()"
   ]
  },
  {
   "cell_type": "code",
   "execution_count": 69,
   "id": "b42fdf0a",
   "metadata": {},
   "outputs": [
    {
     "data": {
      "text/plain": [
       "24.805555555555557"
      ]
     },
     "execution_count": 69,
     "metadata": {},
     "output_type": "execute_result"
    }
   ],
   "source": [
    "titanic['Age'].loc[(titanic['Sex'] == 'female') &\n",
    "                   (titanic['Pclass'] == 3) &\n",
    "                   (titanic['Survived'] == 0)].mean()"
   ]
  },
  {
   "cell_type": "code",
   "execution_count": 70,
   "id": "52912dfa",
   "metadata": {},
   "outputs": [
    {
     "data": {
      "text/plain": [
       "0.42"
      ]
     },
     "execution_count": 70,
     "metadata": {},
     "output_type": "execute_result"
    }
   ],
   "source": [
    "titanic['Age'].loc[titanic['Survived'] == 1].min()"
   ]
  },
  {
   "cell_type": "code",
   "execution_count": 71,
   "id": "e8a67e03",
   "metadata": {},
   "outputs": [
    {
     "data": {
      "text/plain": [
       "803    male\n",
       "Name: Sex, dtype: object"
      ]
     },
     "execution_count": 71,
     "metadata": {},
     "output_type": "execute_result"
    }
   ],
   "source": [
    "titanic['Sex'].loc[titanic['Age'] == 0.42]"
   ]
  },
  {
   "cell_type": "code",
   "execution_count": 72,
   "id": "5e3dd1e3",
   "metadata": {},
   "outputs": [
    {
     "data": {
      "text/plain": [
       "803    3\n",
       "Name: Pclass, dtype: int64"
      ]
     },
     "execution_count": 72,
     "metadata": {},
     "output_type": "execute_result"
    }
   ],
   "source": [
    "titanic['Pclass'].loc[titanic['Age'] == 0.42]"
   ]
  },
  {
   "cell_type": "code",
   "execution_count": 73,
   "id": "c6395528",
   "metadata": {},
   "outputs": [
    {
     "data": {
      "text/plain": [
       "1.0"
      ]
     },
     "execution_count": 73,
     "metadata": {},
     "output_type": "execute_result"
    }
   ],
   "source": [
    "titanic['Age'].loc[titanic['Survived'] == 0].min()"
   ]
  },
  {
   "cell_type": "code",
   "execution_count": 74,
   "id": "b13ed2d7",
   "metadata": {},
   "outputs": [
    {
     "data": {
      "text/plain": [
       "164      male\n",
       "172    female\n",
       "183      male\n",
       "381    female\n",
       "386      male\n",
       "788      male\n",
       "827      male\n",
       "Name: Sex, dtype: object"
      ]
     },
     "execution_count": 74,
     "metadata": {},
     "output_type": "execute_result"
    }
   ],
   "source": [
    "titanic['Sex'].loc[titanic['Age'] == 1.0]"
   ]
  },
  {
   "cell_type": "code",
   "execution_count": 75,
   "id": "1e0cbe1e",
   "metadata": {},
   "outputs": [
    {
     "data": {
      "text/plain": [
       "164    3\n",
       "172    3\n",
       "183    2\n",
       "381    3\n",
       "386    3\n",
       "788    3\n",
       "827    2\n",
       "Name: Pclass, dtype: int64"
      ]
     },
     "execution_count": 75,
     "metadata": {},
     "output_type": "execute_result"
    }
   ],
   "source": [
    "titanic['Pclass'].loc[titanic['Age'] == 1.0]"
   ]
  },
  {
   "cell_type": "code",
   "execution_count": 76,
   "id": "805e774a",
   "metadata": {},
   "outputs": [
    {
     "data": {
      "text/plain": [
       "80.0"
      ]
     },
     "execution_count": 76,
     "metadata": {},
     "output_type": "execute_result"
    }
   ],
   "source": [
    "titanic['Age'].loc[titanic['Survived'] == 1].max()"
   ]
  },
  {
   "cell_type": "code",
   "execution_count": 77,
   "id": "542413bf",
   "metadata": {},
   "outputs": [
    {
     "data": {
      "text/plain": [
       "630    male\n",
       "Name: Sex, dtype: object"
      ]
     },
     "execution_count": 77,
     "metadata": {},
     "output_type": "execute_result"
    }
   ],
   "source": [
    "titanic['Sex'].loc[titanic['Age'] == 80.0]"
   ]
  },
  {
   "cell_type": "code",
   "execution_count": 78,
   "id": "281c97c9",
   "metadata": {},
   "outputs": [
    {
     "data": {
      "text/plain": [
       "630    1\n",
       "Name: Pclass, dtype: int64"
      ]
     },
     "execution_count": 78,
     "metadata": {},
     "output_type": "execute_result"
    }
   ],
   "source": [
    "titanic['Pclass'].loc[titanic['Age'] == 80.0]"
   ]
  },
  {
   "cell_type": "code",
   "execution_count": 85,
   "id": "1419a13f",
   "metadata": {},
   "outputs": [
    {
     "data": {
      "text/plain": [
       "74.0"
      ]
     },
     "execution_count": 85,
     "metadata": {},
     "output_type": "execute_result"
    }
   ],
   "source": [
    "titanic['Age'].loc[titanic['Survived'] == 0].max()"
   ]
  },
  {
   "cell_type": "code",
   "execution_count": 86,
   "id": "74c72e04",
   "metadata": {},
   "outputs": [
    {
     "data": {
      "text/plain": [
       "851    male\n",
       "Name: Sex, dtype: object"
      ]
     },
     "execution_count": 86,
     "metadata": {},
     "output_type": "execute_result"
    }
   ],
   "source": [
    "titanic['Sex'].loc[titanic['Age'] == 74.0]"
   ]
  },
  {
   "cell_type": "code",
   "execution_count": 81,
   "id": "fa4af896",
   "metadata": {},
   "outputs": [
    {
     "data": {
      "text/plain": [
       "851    3\n",
       "Name: Pclass, dtype: int64"
      ]
     },
     "execution_count": 81,
     "metadata": {},
     "output_type": "execute_result"
    }
   ],
   "source": [
    "titanic['Pclass'].loc[titanic['Age'] == 74.0]"
   ]
  }
 ],
 "metadata": {
  "kernelspec": {
   "display_name": "Python 3 (ipykernel)",
   "language": "python",
   "name": "python3"
  },
  "language_info": {
   "codemirror_mode": {
    "name": "ipython",
    "version": 3
   },
   "file_extension": ".py",
   "mimetype": "text/x-python",
   "name": "python",
   "nbconvert_exporter": "python",
   "pygments_lexer": "ipython3",
   "version": "3.9.7"
  }
 },
 "nbformat": 4,
 "nbformat_minor": 5
}
